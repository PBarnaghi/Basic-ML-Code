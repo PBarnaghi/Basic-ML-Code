{
 "cells": [
  {
   "cell_type": "code",
   "execution_count": null,
   "metadata": {},
   "outputs": [],
   "source": []
  },
  {
   "cell_type": "markdown",
   "metadata": {},
   "source": [
    "N = number of data samples; D = dimentions of the input data; H = number of units in the hidden layer; O = number of target values;"
   ]
  },
  {
   "cell_type": "code",
   "execution_count": 158,
   "metadata": {},
   "outputs": [],
   "source": [
    "N = 100;\n",
    "D = 20;\n",
    "H = 150;\n",
    "O = 1;"
   ]
  },
  {
   "cell_type": "code",
   "execution_count": 170,
   "metadata": {},
   "outputs": [],
   "source": [
    "% generate N samples for input with D dimentions\n",
    "x = rand(N,D); "
   ]
  },
  {
   "cell_type": "code",
   "execution_count": 171,
   "metadata": {},
   "outputs": [],
   "source": [
    "% generate N random output values\n",
    "y = rand(N,O);"
   ]
  },
  {
   "cell_type": "markdown",
   "metadata": {},
   "source": [
    "Randomly intialise the weights for each layer"
   ]
  },
  {
   "cell_type": "code",
   "execution_count": 172,
   "metadata": {},
   "outputs": [],
   "source": [
    "w1 = rand(D,H);\n",
    "\n",
    "w2 = rand(H,O);"
   ]
  },
  {
   "cell_type": "code",
   "execution_count": 162,
   "metadata": {},
   "outputs": [
    {
     "name": "stdout",
     "output_type": "stream",
     "text": [
      "\n",
      "ans =\n",
      "\n",
      "    20   150\n",
      "\n"
     ]
    }
   ],
   "source": [
    "size(w1)"
   ]
  },
  {
   "cell_type": "code",
   "execution_count": 163,
   "metadata": {},
   "outputs": [
    {
     "name": "stdout",
     "output_type": "stream",
     "text": [
      "\n",
      "ans =\n",
      "\n",
      "   150     1\n",
      "\n"
     ]
    }
   ],
   "source": [
    "size(w2)"
   ]
  },
  {
   "cell_type": "code",
   "execution_count": 164,
   "metadata": {},
   "outputs": [
    {
     "name": "stdout",
     "output_type": "stream",
     "text": [
      "\n",
      "ans =\n",
      "\n",
      "   100    20\n",
      "\n"
     ]
    }
   ],
   "source": [
    "size(x)"
   ]
  },
  {
   "cell_type": "code",
   "execution_count": 173,
   "metadata": {},
   "outputs": [],
   "source": [
    "learning_rate = 0.000005;"
   ]
  },
  {
   "cell_type": "code",
   "execution_count": 174,
   "metadata": {},
   "outputs": [],
   "source": [
    "epoch = 10000;"
   ]
  },
  {
   "cell_type": "code",
   "execution_count": 175,
   "metadata": {},
   "outputs": [],
   "source": [
    "LOG_EVERY_N = 1000;"
   ]
  },
  {
   "cell_type": "code",
   "execution_count": 176,
   "metadata": {},
   "outputs": [
    {
     "name": "stdout",
     "output_type": "stream",
     "text": [
      "----------------------------------------\n",
      "| epoch {1000} | valid loss |    17.8277\n",
      "\n",
      "----------------------------------------\n",
      "| epoch {2000} | valid loss |    15.3248\n",
      "\n",
      "----------------------------------------\n",
      "| epoch {3000} | valid loss |    13.5074\n",
      "\n",
      "----------------------------------------\n",
      "| epoch {4000} | valid loss |    12.2210\n",
      "\n",
      "----------------------------------------\n",
      "| epoch {5000} | valid loss |    11.2851\n",
      "\n",
      "----------------------------------------\n",
      "| epoch {6000} | valid loss |    10.4140\n",
      "\n",
      "----------------------------------------\n",
      "| epoch {7000} | valid loss |     9.6536\n",
      "\n",
      "----------------------------------------\n",
      "| epoch {8000} | valid loss |     9.0188\n",
      "\n",
      "----------------------------------------\n",
      "| epoch {9000} | valid loss |     8.5378\n",
      "\n",
      "----------------------------------------\n",
      "| epoch {10000} | valid loss |     8.1658\n",
      "\n"
     ]
    }
   ],
   "source": [
    "save_grad_w1 = [];\n",
    "save_grad_w2 = [];\n",
    "num =0;\n",
    "\n",
    "for t = 1:epoch\n",
    "    h = x * w1;\n",
    "    h_ReLu = max(h,0);\n",
    "    y_pred = h_ReLu * w2;\n",
    "    \n",
    "    l2_loss = sum((y_pred - y).^2);\n",
    "    \n",
    "    if mod(t,LOG_EVERY_N) == 0\n",
    "        disp (\"----------------------------------------\");\n",
    "        fprintf('| epoch {%d} | valid loss | ', t);\n",
    "        disp (l2_loss);\n",
    "    end\n",
    "    \n",
    "    grad_y_pred = 2.0 * (y_pred - y);\n",
    "    grad_w2 = transpose(h_ReLu) * grad_y_pred;\n",
    "    \n",
    "    grad_h_ReLu = grad_y_pred * transpose(w2);\n",
    "    grad_h = grad_h_ReLu;\n",
    "    \n",
    "    grad_h (h<0) = 0;\n",
    "    \n",
    "    grad_w1 = transpose(x) * grad_h;\n",
    "    \n",
    "    w1 = w1 - (learning_rate * grad_w1);\n",
    "    w2 = w2 - (learning_rate * grad_w2);\n",
    "\n",
    "    if mod(t,LOG_EVERY_N) == 0\n",
    "        save_grad_w1{end+1} = grad_w1;\n",
    "        save_grad_w2{end+1} = grad_w2;\n",
    "        num = num+1;\n",
    "    end\n",
    "\n",
    "end\n"
   ]
  },
  {
   "cell_type": "code",
   "execution_count": null,
   "metadata": {},
   "outputs": [],
   "source": []
  }
 ],
 "metadata": {
  "kernelspec": {
   "display_name": "Matlab",
   "language": "matlab",
   "name": "matlab"
  },
  "language_info": {
   "codemirror_mode": "octave",
   "file_extension": ".m",
   "help_links": [
    {
     "text": "MetaKernel Magics",
     "url": "https://metakernel.readthedocs.io/en/latest/source/README.html"
    }
   ],
   "mimetype": "text/x-octave",
   "name": "matlab",
   "version": "0.16.9"
  }
 },
 "nbformat": 4,
 "nbformat_minor": 4
}
